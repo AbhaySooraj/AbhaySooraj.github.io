{
  "nbformat": 4,
  "nbformat_minor": 0,
  "metadata": {
    "colab": {
      "provenance": [],
      "authorship_tag": "ABX9TyPN24edRVE8e43xtpsL1u4C",
      "include_colab_link": true
    },
    "kernelspec": {
      "name": "python3",
      "display_name": "Python 3"
    },
    "language_info": {
      "name": "python"
    }
  },
  "cells": [
    {
      "cell_type": "markdown",
      "metadata": {
        "id": "view-in-github",
        "colab_type": "text"
      },
      "source": [
        "<a href=\"https://colab.research.google.com/github/AbhaySooraj/AbhaySooraj.github.io/blob/main/MagicSquare.ipynb\" target=\"_parent\"><img src=\"https://colab.research.google.com/assets/colab-badge.svg\" alt=\"Open In Colab\"/></a>"
      ]
    },
    {
      "cell_type": "code",
      "execution_count": 4,
      "metadata": {
        "colab": {
          "base_uri": "https://localhost:8080/"
        },
        "id": "UIBILyQ2rjg4",
        "outputId": "4ae7626d-6029-4780-e1bf-dc5c32945958"
      },
      "outputs": [
        {
          "output_type": "stream",
          "name": "stdout",
          "text": [
            "Magic Square Generator\n",
            "----------------------\n",
            "Enter the order of the magic square: 5\n",
            "Magic Square:\n",
            "17 24 1 8 15\n",
            "23 5 7 14 16\n",
            "4 6 13 20 22\n",
            "10 12 19 21 3\n",
            "11 18 25 2 9\n",
            "\n",
            "Magic Sum (Rows, Columns, Diagonals): 65\n"
          ]
        }
      ],
      "source": [
        "def create_magic_square(n):\n",
        "    magic_square = [[0] * n for _ in range(n)]\n",
        "    i = 0\n",
        "    j = n // 2\n",
        "    num = 1\n",
        "    magic_sum = n * (n ** 2 + 1) // 2\n",
        "\n",
        "    while num <= n * n:\n",
        "        magic_square[i][j] = num\n",
        "        num += 1\n",
        "\n",
        "        next_i = (i - 1) % n\n",
        "        next_j = (j + 1) % n\n",
        "\n",
        "        if magic_square[next_i][next_j] == 0:\n",
        "            i, j = next_i, next_j\n",
        "        else:\n",
        "            if next_i == -1:\n",
        "                next_i = n - 1\n",
        "\n",
        "            if next_j == n:\n",
        "                next_j = 0\n",
        "\n",
        "            i = (i + 1) % n\n",
        "            j = j\n",
        "\n",
        "    return magic_square, magic_sum\n",
        "\n",
        "def display_magic_square(magic_square, magic_sum):\n",
        "    print(\"Magic Square:\")\n",
        "    for row in magic_square:\n",
        "        print(\" \".join(map(str, row)))\n",
        "\n",
        "    print(\"\\nMagic Sum (Rows, Columns, Diagonals):\", magic_sum)\n",
        "\n",
        "print(\"Magic Square Generator\")\n",
        "print(\"----------------------\")\n",
        "\n",
        "n = int(input(\"Enter the order of the magic square: \"))\n",
        "\n",
        "magic_square, magic_sum = create_magic_square(n)\n",
        "display_magic_square(magic_square, magic_sum)"
      ]
    }
  ]
}